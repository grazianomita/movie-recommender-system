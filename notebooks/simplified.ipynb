{
 "cells": [
  {
   "cell_type": "markdown",
   "id": "ae96323d-419e-4fc0-8c24-298af958a540",
   "metadata": {},
   "source": [
    "# Movie Recommendation System"
   ]
  },
  {
   "cell_type": "markdown",
   "id": "0ff7f9e2-23a6-497a-9ba8-e5bb83224c8f",
   "metadata": {},
   "source": [
    "### Dataset"
   ]
  },
  {
   "cell_type": "code",
   "execution_count": 1,
   "id": "80cc9ad8-c6b9-435f-a0fc-c96b461a2109",
   "metadata": {},
   "outputs": [],
   "source": [
    "import os\n",
    "import numpy as np\n",
    "import pandas as pd"
   ]
  },
  {
   "cell_type": "code",
   "execution_count": 2,
   "id": "d073b311-e3e7-46f5-961e-f51e458c1137",
   "metadata": {},
   "outputs": [
    {
     "data": {
      "text/html": [
       "<div>\n",
       "<style scoped>\n",
       "    .dataframe tbody tr th:only-of-type {\n",
       "        vertical-align: middle;\n",
       "    }\n",
       "\n",
       "    .dataframe tbody tr th {\n",
       "        vertical-align: top;\n",
       "    }\n",
       "\n",
       "    .dataframe thead th {\n",
       "        text-align: right;\n",
       "    }\n",
       "</style>\n",
       "<table border=\"1\" class=\"dataframe\">\n",
       "  <thead>\n",
       "    <tr style=\"text-align: right;\">\n",
       "      <th></th>\n",
       "      <th>index</th>\n",
       "      <th>wikipedia_id</th>\n",
       "      <th>name</th>\n",
       "      <th>text</th>\n",
       "    </tr>\n",
       "  </thead>\n",
       "  <tbody>\n",
       "    <tr>\n",
       "      <th>0</th>\n",
       "      <td>0</td>\n",
       "      <td>975900</td>\n",
       "      <td>Ghosts of Mars</td>\n",
       "      <td>Ghosts of Mars. Set in the second half of the ...</td>\n",
       "    </tr>\n",
       "    <tr>\n",
       "      <th>1</th>\n",
       "      <td>1</td>\n",
       "      <td>18998739</td>\n",
       "      <td>The Sorcerer's Apprentice</td>\n",
       "      <td>The Sorcerer's Apprentice. Every hundred years...</td>\n",
       "    </tr>\n",
       "    <tr>\n",
       "      <th>2</th>\n",
       "      <td>2</td>\n",
       "      <td>21926710</td>\n",
       "      <td>White on Rice</td>\n",
       "      <td>White on Rice. Jimmy ([[Hiroshi Watanabe  love...</td>\n",
       "    </tr>\n",
       "    <tr>\n",
       "      <th>3</th>\n",
       "      <td>3</td>\n",
       "      <td>20604092</td>\n",
       "      <td>Anbu Thozhi</td>\n",
       "      <td>Anbu Thozhi. The film opens with a simpleton f...</td>\n",
       "    </tr>\n",
       "    <tr>\n",
       "      <th>4</th>\n",
       "      <td>4</td>\n",
       "      <td>156558</td>\n",
       "      <td>Baby Boy</td>\n",
       "      <td>Baby Boy. A young 20-year-old named Jody  live...</td>\n",
       "    </tr>\n",
       "  </tbody>\n",
       "</table>\n",
       "</div>"
      ],
      "text/plain": [
       "   index  wikipedia_id                       name  \\\n",
       "0      0        975900             Ghosts of Mars   \n",
       "1      1      18998739  The Sorcerer's Apprentice   \n",
       "2      2      21926710              White on Rice   \n",
       "3      3      20604092                Anbu Thozhi   \n",
       "4      4        156558                   Baby Boy   \n",
       "\n",
       "                                                text  \n",
       "0  Ghosts of Mars. Set in the second half of the ...  \n",
       "1  The Sorcerer's Apprentice. Every hundred years...  \n",
       "2  White on Rice. Jimmy ([[Hiroshi Watanabe  love...  \n",
       "3  Anbu Thozhi. The film opens with a simpleton f...  \n",
       "4  Baby Boy. A young 20-year-old named Jody  live...  "
      ]
     },
     "execution_count": 2,
     "metadata": {},
     "output_type": "execute_result"
    }
   ],
   "source": [
    "movies_df = pd.read_csv('../data/movies.csv')\n",
    "movies_df.head()"
   ]
  },
  {
   "cell_type": "markdown",
   "id": "f3d52175-f08d-4cd1-b0f3-e956b99cda06",
   "metadata": {},
   "source": [
    "### Embeddings"
   ]
  },
  {
   "cell_type": "code",
   "execution_count": 3,
   "id": "04887c24-718c-4189-97db-93dbe8a1a52f",
   "metadata": {},
   "outputs": [],
   "source": [
    "from transformers import pipeline"
   ]
  },
  {
   "cell_type": "code",
   "execution_count": 4,
   "id": "5a4c0e33-6a8e-48f2-9711-b10586f218c3",
   "metadata": {},
   "outputs": [],
   "source": [
    "CHECKPOINT = \"bert-base-uncased\"  # \"facebook/bart-base\"\n",
    "EMBEDDING_SIZE = 768\n",
    "MAX_INPUT_SIZE = 512\n",
    "EMBEDDINGS_PATH = \"../data/embeddings.npy\""
   ]
  },
  {
   "cell_type": "code",
   "execution_count": 5,
   "id": "ef374cb7-7a60-4fb9-84ae-afc76f73dcdd",
   "metadata": {},
   "outputs": [],
   "source": [
    "feature_extractor = pipeline(\"feature-extraction\", framework=\"pt\", model=CHECKPOINT, padding=True, truncation=True)"
   ]
  },
  {
   "cell_type": "code",
   "execution_count": 6,
   "id": "aa83eaf5-8e24-4b27-b7e6-6b037f740fa0",
   "metadata": {},
   "outputs": [],
   "source": [
    "def get_embeddings():\n",
    "    if not os.path.exists(EMBEDDINGS_PATH):\n",
    "        embeddings = []\n",
    "        for text in df['text'].values:\n",
    "            embedding = feature_extractor(text, return_tensors = \"pt\")[0].numpy().mean(axis=0)\n",
    "            embeddings.append(embedding)\n",
    "        np.save(EMBEDDINGS_PATH, embeddings)\n",
    "    else:\n",
    "        embeddings = np.load(EMBEDDINGS_PATH)\n",
    "    return embeddings"
   ]
  },
  {
   "cell_type": "code",
   "execution_count": 7,
   "id": "d45a70e5-617a-4c0e-8453-ca11db9c2df2",
   "metadata": {},
   "outputs": [],
   "source": [
    "embeddings = get_embeddings()"
   ]
  },
  {
   "cell_type": "markdown",
   "id": "50f58d47-0850-485a-86f0-5d289e759fe9",
   "metadata": {},
   "source": [
    "### Facebook AI Similarity Search"
   ]
  },
  {
   "cell_type": "code",
   "execution_count": 9,
   "id": "5a90bb84-0f7a-4a4a-9b00-49e58e25cff1",
   "metadata": {},
   "outputs": [],
   "source": [
    "import faiss"
   ]
  },
  {
   "cell_type": "code",
   "execution_count": 10,
   "id": "4a6b99a2-466e-48d2-9f15-472e5de75938",
   "metadata": {},
   "outputs": [],
   "source": [
    "INDEX_PATH = \"../data/movies.index\""
   ]
  },
  {
   "cell_type": "code",
   "execution_count": 11,
   "id": "dbc6c08a-cc62-487f-bff3-cab3e526d121",
   "metadata": {},
   "outputs": [],
   "source": [
    "def get_index(index_path, refresh=False):\n",
    "    if refresh or not os.path.exists(index_path):\n",
    "        index = faiss.IndexFlatIP(EMBEDDING_SIZE) # faiss.IndexFlatL2(EMBEDDING_SIZE)\n",
    "        index.add(np.array(embeddings).astype(\"float32\"))\n",
    "        faiss.write_index(index, index_path)\n",
    "    else: \n",
    "        index = faiss.read_index(index_path)\n",
    "    return index"
   ]
  },
  {
   "cell_type": "code",
   "execution_count": 12,
   "id": "8b771ce9-b320-4fe0-a442-a249d0dae31a",
   "metadata": {},
   "outputs": [],
   "source": [
    "index = get_index(INDEX_PATH, refresh=True)"
   ]
  },
  {
   "cell_type": "code",
   "execution_count": 13,
   "id": "fa122873-1854-45d6-a386-dbfcca0c0c2d",
   "metadata": {},
   "outputs": [],
   "source": [
    "k = 5"
   ]
  },
  {
   "cell_type": "code",
   "execution_count": 14,
   "id": "80469674-2604-43ee-8898-516d75b71d52",
   "metadata": {},
   "outputs": [],
   "source": [
    "test_sample = 'Spiderman marvel superheroes'\n",
    "test_sample = np.array([feature_extractor(test_sample, return_tensors = \"pt\")[0].numpy().mean(axis=0)]).astype('float32')\n",
    "distances, indices = index.search(\n",
    "    test_sample, \n",
    "    k\n",
    ")"
   ]
  },
  {
   "cell_type": "code",
   "execution_count": 15,
   "id": "ea54e763-fec7-43fb-9c26-ac7080266e60",
   "metadata": {},
   "outputs": [
    {
     "data": {
      "text/plain": [
       "array(['Seeds of Arkham', 'Powers', 'Batman: Revenge',\n",
       "       'Superman vs. The Elite', 'Grim Reaper'], dtype=object)"
      ]
     },
     "execution_count": 15,
     "metadata": {},
     "output_type": "execute_result"
    }
   ],
   "source": [
    "movies_df.iloc[indices[0]]['name'].values"
   ]
  },
  {
   "cell_type": "code",
   "execution_count": null,
   "id": "7da1d399-3379-4c82-a967-80f459c265ac",
   "metadata": {},
   "outputs": [],
   "source": []
  }
 ],
 "metadata": {
  "kernelspec": {
   "display_name": "Python 3 (ipykernel)",
   "language": "python",
   "name": "python3"
  },
  "language_info": {
   "codemirror_mode": {
    "name": "ipython",
    "version": 3
   },
   "file_extension": ".py",
   "mimetype": "text/x-python",
   "name": "python",
   "nbconvert_exporter": "python",
   "pygments_lexer": "ipython3",
   "version": "3.10.6"
  }
 },
 "nbformat": 4,
 "nbformat_minor": 5
}
